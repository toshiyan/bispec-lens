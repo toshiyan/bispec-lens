{
 "cells": [
  {
   "cell_type": "code",
   "execution_count": 1,
   "metadata": {},
   "outputs": [],
   "source": [
    "import numpy as np, camb, basic\n",
    "from matplotlib.pyplot import *"
   ]
  },
  {
   "cell_type": "code",
   "execution_count": 2,
   "metadata": {},
   "outputs": [],
   "source": [
    "# Function to get the sigma_8 and P(k) at z = 0.0 from CAMB\n",
    "def get_pklin0(h0,wb,Om,As,ns,maxkh=10.,k_per_logint=200):\n",
    "\n",
    "    # Reset CAMB\n",
    "    pars = camb.CAMBparams()\n",
    "    pars.set_cosmology(H0=1e2*h0, ombh2=wb, omch2=Om*h0**2-wb,omk=0,mnu=0)\n",
    "    pars.set_dark_energy() #LCDM (default)\n",
    "    pars.InitPower.set_params(ns=ns, r=0, As=As)\n",
    "\n",
    "    # Set matter power spectrum at z=0: P(k,z)\n",
    "    pars.set_matter_power(redshifts=[0.],kmax=maxkh/h0*1.1,k_per_logint=k_per_logint)\n",
    "    pars.NonLinear = camb.model.NonLinear_none\n",
    "    \n",
    "    # Calculate the intermediate results for these parameters\n",
    "    results = camb.get_results(pars)\n",
    "    #results.calc_power_spectra(pars)\n",
    "    \n",
    "    print(results.get_sigma8())\n",
    "    \n",
    "    # Calculate the CAMB power spectra to be interpolated\n",
    "    kh, _z, pk = results.get_linear_matter_power_spectrum(have_power_spectra=True,nonlinear=False)\n",
    "\n",
    "    return kh, pk[0]"
   ]
  },
  {
   "cell_type": "code",
   "execution_count": 3,
   "metadata": {},
   "outputs": [],
   "source": [
    "h0 = 0.7\n",
    "wb = 0.022\n",
    "Om = 0.3\n",
    "As = 2e-9\n",
    "ns = 0.96"
   ]
  },
  {
   "cell_type": "code",
   "execution_count": 4,
   "metadata": {},
   "outputs": [
    {
     "name": "stdout",
     "output_type": "stream",
     "text": [
      "[0.83188912]\n"
     ]
    }
   ],
   "source": [
    "kh, pklin0 = get_pklin0(h0,wb,Om,As,ns)"
   ]
  },
  {
   "cell_type": "code",
   "execution_count": 5,
   "metadata": {},
   "outputs": [],
   "source": [
    "#loglog(kh,pklin0)"
   ]
  },
  {
   "cell_type": "code",
   "execution_count": 6,
   "metadata": {},
   "outputs": [],
   "source": [
    "lmin = 100\n",
    "lmax = 2000\n",
    "bn = lmax-lmin\n",
    "ols = np.linspace(lmin,lmax,bn+1,dtype=np.int)\n",
    "zss = [1.0334]\n",
    "zn = 30\n",
    "D = '/global/homes/t/toshiyan/scratch/bispec/skewspec/'\n",
    "#zss = [0.5078]"
   ]
  },
  {
   "cell_type": "code",
   "execution_count": null,
   "metadata": {},
   "outputs": [],
   "source": [
    "for zs0 in zss:\n",
    "    zs = [zs0,zs0]\n",
    "    zmin, zmax = 0.0001, min(zs0,zs0)\n",
    "    f = D+'Sl_Om'+str(Om)+'_h0'+str(h0)+'_zs'+str(zs0)+'_zn'+str(zn)+'_l'+str(lmin)+'-'+str(lmax)+'.dat'\n",
    "    print(zs0)\n",
    "    skew = basic.bispec.skewspeclens('input','RT',zmin,zmax,zn,zs,ols,lmin,lmax,kh,pklin0,pb=True,Om=Om,H0=1e2*h0,mnu=0.,ns=ns)\n",
    "    np.savetxt(f,np.array((ols,skew[0,:],skew[1,:],skew[2,:])).T)"
   ]
  },
  {
   "cell_type": "code",
   "execution_count": null,
   "metadata": {},
   "outputs": [],
   "source": []
  }
 ],
 "metadata": {
  "kernelspec": {
   "display_name": "py4so",
   "language": "python",
   "name": "py4so"
  },
  "language_info": {
   "codemirror_mode": {
    "name": "ipython",
    "version": 3
   },
   "file_extension": ".py",
   "mimetype": "text/x-python",
   "name": "python",
   "nbconvert_exporter": "python",
   "pygments_lexer": "ipython3",
   "version": "3.7.2"
  }
 },
 "nbformat": 4,
 "nbformat_minor": 4
}
