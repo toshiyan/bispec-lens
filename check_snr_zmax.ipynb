{
 "cells": [
  {
   "cell_type": "code",
   "execution_count": 1,
   "metadata": {},
   "outputs": [
    {
     "name": "stdout",
     "output_type": "stream",
     "text": [
      "Using CAMB 1.3.2 installed at /global/homes/t/toshiyan/.conda/envs/loc/lib/python3.7/site-packages/camb\n"
     ]
    }
   ],
   "source": [
    "import numpy as np\n",
    "import basic\n",
    "import camb\n",
    "import os\n",
    "import cosmology\n",
    "from matplotlib.pyplot import *\n",
    "from camb import model, initialpower\n",
    "from camb.sources import GaussianSourceWindow, SplinedSourceWindow\n",
    "print('Using CAMB %s installed at %s'%(camb.__version__,os.path.dirname(camb.__file__)))"
   ]
  },
  {
   "cell_type": "code",
   "execution_count": 2,
   "metadata": {},
   "outputs": [],
   "source": [
    "cpmodel = 'modelw'\n",
    "H0    = 70.0\n",
    "ombh2 = 0.02254\n",
    "omch2 = 0.11417\n",
    "As    = 2.41e-09\n",
    "ns    = 0.97\n",
    "h0    = H0/100.\n",
    "Om    = (omch2+ombh2)/h0**2\n",
    "cps   = {'H0':H0,'Om':Om,'Ov':1-Om,'w0':-1,'wa':0.}"
   ]
  },
  {
   "cell_type": "code",
   "execution_count": 3,
   "metadata": {},
   "outputs": [],
   "source": [
    "lmin = 1\n",
    "lmax = 2048\n",
    "L = np.linspace(0,lmax,lmax+1)"
   ]
  },
  {
   "cell_type": "code",
   "execution_count": 4,
   "metadata": {},
   "outputs": [],
   "source": [
    "pars = camb.CAMBparams()\n",
    "pars.set_cosmology(H0=H0, ombh2=ombh2, omch2=omch2)\n",
    "pars.InitPower.set_params(As=As, ns=ns)\n",
    "pars.set_for_lmax(lmax, lens_potential_accuracy=5)\n",
    "pars.NonLinear = model.NonLinear_both\n",
    "pars.Accuracy.AccuracyBoost = 1\n",
    "pars.Accuracy.lSampleBoost = 1"
   ]
  },
  {
   "cell_type": "code",
   "execution_count": 6,
   "metadata": {},
   "outputs": [],
   "source": [
    "# Set matter power spectrum at z: P(k,z)\n",
    "#pars.set_matter_power(redshifts=[0.],kmax=2e1/h0*1.1,k_per_logint=200)\n",
    "#results = camb.get_results(pars)\n",
    "#k, _, pk0 = results.get_linear_matter_power_spectrum(have_power_spectra=True,nonlinear=False)"
   ]
  },
  {
   "cell_type": "code",
   "execution_count": 7,
   "metadata": {},
   "outputs": [],
   "source": [
    "k, pk0 = np.loadtxt( 'data/'+cpmodel+'/Pk/Pklin.dat', unpack=True )"
   ]
  },
  {
   "cell_type": "code",
   "execution_count": 9,
   "metadata": {},
   "outputs": [],
   "source": [
    "zcmb = 1088.69"
   ]
  },
  {
   "cell_type": "code",
   "execution_count": 10,
   "metadata": {},
   "outputs": [
    {
     "name": "stdout",
     "output_type": "stream",
     "text": [
      "kmax 3.530914825434184\n",
      "0.5 100 1.597\n",
      "kmax 7.061829650868368\n",
      "0.5 200 1.9304\n",
      "kmax 6.609457250845242\n",
      "1.0 100 2.431\n",
      "kmax 13.218914501690485\n",
      "1.0 200 3.5511\n",
      "kmax 5.144776102484533\n",
      "2.0 100 2.4175\n",
      "kmax 10.289552204969066\n",
      "2.0 200 4.436\n",
      "kmax 4.910644380528085\n",
      "3.0 100 2.1712\n",
      "kmax 9.82128876105617\n",
      "3.0 200 4.386\n",
      "kmax 1.030302654721329\n",
      "1088.69 100 1.0735\n",
      "kmax 2.060605309442658\n",
      "1088.69 200 2.3472\n"
     ]
    }
   ],
   "source": [
    "for zn, zsi in [(10,.5),(20,1.),(25,2.),(30,4.),(100,zcmb)]:\n",
    "    zs = [zsi,zsi,zsi]\n",
    "    zmin, zmax = 0.0001, min(40.,zsi)\n",
    "    z, dz = basic.bispec.zpoints(zmin,zmax,zn)\n",
    "    chi = basic.cosmofuncs.dist_comoving(z,**cps)\n",
    "    \n",
    "    # clkk\n",
    "    clkk = basic.bispec.cl_flat(cpmodel,z,dz,zs[:2],lmax,k,pk0)\n",
    "\n",
    "    #Lmaxs = np.array([100,500,1000,2000,3000])\n",
    "    Lmaxs = np.array([100,200,300,400,500])\n",
    "    snr = np.zeros(len(Lmaxs))\n",
    "\n",
    "    for i, Lmax in enumerate(Lmaxs):\n",
    "    \n",
    "        nlkk = np.zeros(Lmax+1)\n",
    "        #nlkk[2:] = np.loadtxt(D+'nldd/advact_s6_t1_rlmax4000.dat',unpack=True)[1][:lmax-1]\n",
    "        nlkk[2:] = np.loadtxt('data/nldd/so/kappa_deproj0_sens2_16000_lT30-3000_lP30-5000.dat',unpack=True)[7][:Lmax-1]\n",
    "        ckk = clkk[:Lmax+1] + nlkk\n",
    "        \n",
    "        snr[i] = basic.bispec.bispeclens_snr(cpmodel,'RT',z,dz,zs,2,Lmax,ckk,k,pk0,btype='kkk')\n",
    "        print('zs=',zsi,'Lmax=',Lmax,'snr=',np.around(snr[i],decimals=4))\n",
    "    np.savetxt('data/'+cpmodel+'/snr/snr_kkk_zclean_'+str(zsi)+'_kappa_deproj0_sens2_16000_lT30-3000_lP30-5000.dat',np.array((Lmaxs,snr)).T)"
   ]
  },
  {
   "cell_type": "code",
   "execution_count": null,
   "metadata": {},
   "outputs": [],
   "source": []
  }
 ],
 "metadata": {
  "kernelspec": {
   "display_name": "py4so",
   "language": "python",
   "name": "py4so"
  },
  "language_info": {
   "codemirror_mode": {
    "name": "ipython",
    "version": 3
   },
   "file_extension": ".py",
   "mimetype": "text/x-python",
   "name": "python",
   "nbconvert_exporter": "python",
   "pygments_lexer": "ipython3",
   "version": "3.7.2"
  }
 },
 "nbformat": 4,
 "nbformat_minor": 4
}
