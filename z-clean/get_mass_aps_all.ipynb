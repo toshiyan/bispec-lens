{
 "cells": [
  {
   "cell_type": "code",
   "execution_count": 1,
   "id": "b87d8c9a-ac44-4e9d-a995-afff266fc0ad",
   "metadata": {},
   "outputs": [
    {
     "name": "stdout",
     "output_type": "stream",
     "text": [
      "Using CAMB 1.3.2 installed at /global/homes/t/toshiyan/.conda/envs/loc/lib/python3.7/site-packages/camb\n"
     ]
    }
   ],
   "source": [
    "import numpy as np, basic, cosmology, local, camb, plottools as pl\n",
    "from matplotlib.pyplot import *\n",
    "from camb import model, initialpower\n",
    "from camb.sources import GaussianSourceWindow, SplinedSourceWindow\n",
    "cr = rcParams['axes.prop_cycle'].by_key()['color']"
   ]
  },
  {
   "cell_type": "code",
   "execution_count": 2,
   "id": "8d16fccc-a555-4351-b835-560ecd5f9319",
   "metadata": {},
   "outputs": [
    {
     "name": "stdout",
     "output_type": "stream",
     "text": [
      "Using CAMB 1.3.2 installed at /global/homes/t/toshiyan/.conda/envs/loc/lib/python3.7/site-packages/camb\n"
     ]
    },
    {
     "data": {
      "text/plain": [
       "<module 'local' from '/global/u1/t/toshiyan/Work/Ongoing/bispec/z-clean/local.py'>"
      ]
     },
     "execution_count": 2,
     "metadata": {},
     "output_type": "execute_result"
    }
   ],
   "source": [
    "import importlib\n",
    "importlib.reload(local)"
   ]
  },
  {
   "cell_type": "code",
   "execution_count": 3,
   "id": "e2eb65c0-8351-4df3-aa73-7170504420c6",
   "metadata": {},
   "outputs": [],
   "source": [
    "lss_zbin = 6"
   ]
  },
  {
   "cell_type": "code",
   "execution_count": 4,
   "id": "497941ea-9d88-4eec-b4eb-b365bb8e6c49",
   "metadata": {},
   "outputs": [],
   "source": [
    "zmin, zmax = 0.0001, 50.\n",
    "zn  = 5000\n",
    "zi  = np.linspace(zmin,zmax,zn)\n",
    "dz  = zi[1]-zi[0]\n",
    "Hzi = basic.cosmofuncs.hubble(zi,divc=True,**local.cps)\n",
    "rzi = basic.cosmofuncs.dist_comoving(zi,**local.cps)"
   ]
  },
  {
   "cell_type": "code",
   "execution_count": 5,
   "id": "3ce14d7d-a956-4108-a7a0-26497f85e79a",
   "metadata": {},
   "outputs": [],
   "source": [
    "nu = 353."
   ]
  },
  {
   "cell_type": "code",
   "execution_count": 6,
   "id": "20ec251c-e947-46ac-9bf7-49be39c618da",
   "metadata": {},
   "outputs": [],
   "source": [
    "zbn  = {'lss':lss_zbin}\n",
    "bias = {'lss':1+.84*zi}"
   ]
  },
  {
   "cell_type": "code",
   "execution_count": 7,
   "id": "d5b54e55-4b8a-4638-8fcd-bf3c12b671d1",
   "metadata": {},
   "outputs": [],
   "source": [
    "zbin, dndzi, pz, frac = local.galaxy_distribution(zi,zbn=zbn,sig={'lss':.05})"
   ]
  },
  {
   "cell_type": "code",
   "execution_count": 8,
   "id": "9d2173bd-bc16-4d13-91f0-c410daec96f1",
   "metadata": {},
   "outputs": [],
   "source": [
    "w = {}"
   ]
  },
  {
   "cell_type": "code",
   "execution_count": 9,
   "id": "65c8872d-9dff-49c9-8d71-c9a7f97b1a45",
   "metadata": {},
   "outputs": [],
   "source": [
    "w['W1'] = cosmology.window_cib(rzi,zi,nu)/Hzi"
   ]
  },
  {
   "cell_type": "code",
   "execution_count": 10,
   "id": "11aded23-5bda-43df-8f22-0b18c24fa322",
   "metadata": {},
   "outputs": [],
   "source": [
    "N = 2\n",
    "for s in ['lss']:\n",
    "    for zid in range(zbn[s]):\n",
    "        w['W'+str(N)] = dndzi[s]*pz[s][zid]\n",
    "        N += 1"
   ]
  },
  {
   "cell_type": "code",
   "execution_count": 11,
   "id": "91cd215e-360a-436b-86d8-f9f3951990f3",
   "metadata": {},
   "outputs": [],
   "source": [
    "lmax = 2048\n",
    "l =  np.arange(0, lmax+1)"
   ]
  },
  {
   "cell_type": "code",
   "execution_count": 12,
   "id": "e71dfc53-f968-4951-a9b3-90466df9a5ff",
   "metadata": {},
   "outputs": [],
   "source": [
    "pars = camb.CAMBparams()\n",
    "pars.set_cosmology(H0=local.H0, ombh2=local.ombh2, omch2=local.omch2)\n",
    "pars.InitPower.set_params(As=local.As, ns=local.ns)\n",
    "pars.set_for_lmax(lmax, lens_potential_accuracy=5)\n",
    "pars.Want_CMB = False\n",
    "pars.NonLinear = model.NonLinear_both\n",
    "tracers = [ SplinedSourceWindow( z=zi, W=w['W1'], dlog10Ndm=.4, bias=np.sum(w['W1']*dz) ) ]\n",
    "for I, m in enumerate(list(w)): # add galaxies\\n\",\n",
    "    if I==0:  continue\n",
    "    if I >= 1 and I < zbn['lss']+1: s = 'lss'\n",
    "    tracers += [ SplinedSourceWindow( z=zi, W=w[m], dlog10Ndm=.0, bias_z=bias[s] ) ]\n",
    "pars.SourceWindows = tracers"
   ]
  },
  {
   "cell_type": "code",
   "execution_count": 13,
   "id": "9ba00e12-08d5-4502-a08d-25beb56c7c65",
   "metadata": {},
   "outputs": [],
   "source": [
    "pars.SourceTerms.counts_redshift = False \n",
    "pars.SourceTerms.counts_velocity = False\n",
    "pars.SourceTerms.counts_timedelay = False\n",
    "pars.SourceTerms.counts_ISW = False\n",
    "pars.SourceTerms.counts_potential = False"
   ]
  },
  {
   "cell_type": "code",
   "execution_count": 14,
   "id": "0f631a3b-a3f2-4afd-a8f7-d9d867df0810",
   "metadata": {},
   "outputs": [],
   "source": [
    "results = camb.get_results(pars)\n",
    "cls = results.get_source_cls_dict()"
   ]
  },
  {
   "cell_type": "code",
   "execution_count": 15,
   "id": "572f41dd-c93b-4889-a444-6015a831f3eb",
   "metadata": {},
   "outputs": [],
   "source": [
    "klist = local.tracer_list(add_lss=zbn['lss'])"
   ]
  },
  {
   "cell_type": "code",
   "execution_count": 16,
   "id": "a350875c-584b-4312-ac9f-b5ae510c154c",
   "metadata": {},
   "outputs": [],
   "source": [
    "camb_list = np.concatenate((np.array(['P']),np.array(list(w))))"
   ]
  },
  {
   "cell_type": "code",
   "execution_count": 17,
   "id": "74625391-db2f-495e-bb42-67e98cc409db",
   "metadata": {},
   "outputs": [
    {
     "name": "stdout",
     "output_type": "stream",
     "text": [
      "['P' 'W1' 'W2' 'W3' 'W4' 'W5' 'W6' 'W7']\n",
      "{0: 'cmb', 1: 'cib', 2: 'lss1n6', 3: 'lss2n6', 4: 'lss3n6', 5: 'lss4n6', 6: 'lss5n6', 7: 'lss6n6'}\n"
     ]
    }
   ],
   "source": [
    "print(camb_list)\n",
    "print(klist)"
   ]
  },
  {
   "cell_type": "code",
   "execution_count": 18,
   "id": "56980392-3feb-4757-a845-057c9b4657f7",
   "metadata": {},
   "outputs": [],
   "source": [
    "camb_cls = {}\n",
    "for I, m0 in enumerate(camb_list):\n",
    "    for J, m1 in enumerate(camb_list):\n",
    "        if J<I: continue\n",
    "        if m0 == 'P' and m1 == 'P':\n",
    "            fac   = 2*np.pi/4.\n",
    "        elif m0 == 'P' and m1 != 'P':\n",
    "            fac   = 2*np.pi/np.sqrt((l+1e-30)*(l+1))/2.\n",
    "        else:\n",
    "            fac   = 2*np.pi/(l+1e-30)/(l+1)\n",
    "        camb_cls[m0+m1] = cls[m0+'x'+m1][:lmax+1]*fac"
   ]
  },
  {
   "cell_type": "code",
   "execution_count": 19,
   "id": "0908bed8-e619-4ae3-8544-fa9b3b1fefd9",
   "metadata": {},
   "outputs": [],
   "source": [
    "for I, m0 in enumerate(camb_list):\n",
    "    for J, m1 in enumerate(camb_list):\n",
    "        if J<I: continue\n",
    "        fspec = local.tracer_filename(klist[I],klist[J])\n",
    "        np.savetxt(fspec,np.array((l,camb_cls[m0+m1])))"
   ]
  },
  {
   "cell_type": "code",
   "execution_count": 20,
   "id": "b8d0af0e-34ae-437c-a100-b6b16123ab4b",
   "metadata": {},
   "outputs": [
    {
     "data": {
      "image/png": "[encoded data removed]",
      "text/plain": [
       "<Figure size 432x288 with 1 Axes>"
      ]
     },
     "metadata": {
      "needs_background": "light"
     },
     "output_type": "display_data"
    }
   ],
   "source": [
    "pl.plot_1dstyle(xlog=True,ylog=True,xmin=8,xmax=lmax,ymin=4e-8,ymax=1.5e-4)\n",
    "for I, m0 in enumerate(camb_list):\n",
    "    if m0 in ['P','W1']: continue\n",
    "    plot(l,camb_cls[m0+m0][:lmax+1],color=cr[I],label=m0+m0)\n",
    "    axhline(1./((40.*frac['lss'][I-2])*(10800./np.pi)**2),color=cr[I],ls='--')"
   ]
  },
  {
   "cell_type": "code",
   "execution_count": null,
   "id": "adf7ccc3-c641-4361-8bfe-4d400825c244",
   "metadata": {},
   "outputs": [],
   "source": []
  }
 ],
 "metadata": {
  "kernelspec": {
   "display_name": "py4so",
   "language": "python",
   "name": "py4so"
  },
  "language_info": {
   "codemirror_mode": {
    "name": "ipython",
    "version": 3
   },
   "file_extension": ".py",
   "mimetype": "text/x-python",
   "name": "python",
   "nbconvert_exporter": "python",
   "pygments_lexer": "ipython3",
   "version": "3.7.2"
  }
 },
 "nbformat": 4,
 "nbformat_minor": 5
}
