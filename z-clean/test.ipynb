{
 "cells": [
  {
   "cell_type": "code",
   "execution_count": 11,
   "id": "e9b58d45-0440-418a-a236-67dd7f8571d2",
   "metadata": {},
   "outputs": [
    {
     "name": "stdout",
     "output_type": "stream",
     "text": [
      "Using CAMB 1.3.2 installed at /global/homes/t/toshiyan/.conda/envs/loc/lib/python3.7/site-packages/camb\n"
     ]
    }
   ],
   "source": [
    "import numpy as np\n",
    "import basic\n",
    "import cosmology\n",
    "import misctools\n",
    "import local"
   ]
  },
  {
   "cell_type": "code",
   "execution_count": 24,
   "id": "f3765bab-c6bd-4d1a-a370-52be2650f720",
   "metadata": {},
   "outputs": [
    {
     "name": "stdout",
     "output_type": "stream",
     "text": [
      "Using CAMB 1.3.2 installed at /global/homes/t/toshiyan/.conda/envs/loc/lib/python3.7/site-packages/camb\n"
     ]
    },
    {
     "data": {
      "text/plain": [
       "<module 'local' from '/global/u1/t/toshiyan/Work/Ongoing/bispec/z-clean/local.py'>"
      ]
     },
     "execution_count": 24,
     "metadata": {},
     "output_type": "execute_result"
    }
   ],
   "source": [
    "import importlib\n",
    "importlib.reload(local)"
   ]
  },
  {
   "cell_type": "code",
   "execution_count": 13,
   "id": "a0950fb2-366a-49c7-bf16-48ac5350424a",
   "metadata": {},
   "outputs": [],
   "source": [
    "lmin, lmax = 1, 2048\n",
    "L = np.linspace(0,lmax,lmax+1)\n",
    "kk_noise = 's4'"
   ]
  },
  {
   "cell_type": "code",
   "execution_count": 14,
   "id": "f36935e2-4266-4a54-ac3d-5ef446e1363a",
   "metadata": {},
   "outputs": [],
   "source": [
    "k, pk0 = np.loadtxt(local.root + 'modelw/Pk/Pklin_new.dat',unpack=True)"
   ]
  },
  {
   "cell_type": "code",
   "execution_count": 17,
   "id": "50c6051d-ed91-4673-b710-e44a1619378e",
   "metadata": {},
   "outputs": [],
   "source": [
    "# source redshift\n",
    "zs = [local.zcmb,local.zcmb,local.zcmb]\n",
    "# mass spectra\n",
    "ckI, cII, nlII = np.loadtxt(local.root+'modelw/cl/mass.dat',unpack=True,usecols=(1,2,3))\n",
    "fdel = ckI/(cII+nlII+1e-30)"
   ]
  },
  {
   "cell_type": "code",
   "execution_count": 18,
   "id": "2445d94c-6138-47ce-a6bb-dee650a8eada",
   "metadata": {},
   "outputs": [],
   "source": [
    "zn, zimax = 10,.5"
   ]
  },
  {
   "cell_type": "code",
   "execution_count": 20,
   "id": "9991c4d9-832a-46a9-9732-5a4b20062fbd",
   "metadata": {},
   "outputs": [],
   "source": [
    "zmin, zmax = 0.0001, min(40.,zimax)\n",
    "z, dz = basic.bispec.zpoints(zmin,zmax,zn)\n",
    "chi = basic.cosmofuncs.dist_comoving(z,**local.cps)"
   ]
  },
  {
   "cell_type": "code",
   "execution_count": 28,
   "id": "bc45acd8-6f98-46b3-8b10-4494a7faf10b",
   "metadata": {},
   "outputs": [],
   "source": [
    "# CIB weight\n",
    "wcib = local.cib_weight(z,local.cps,local.nu)"
   ]
  },
  {
   "cell_type": "code",
   "execution_count": 33,
   "id": "853c1877-4e24-4983-b510-b0e1df8f18ba",
   "metadata": {},
   "outputs": [],
   "source": [
    "# modified kernel\n",
    "wdel = np.kron(fdel,wcib.T)\n",
    "#wdel = np.array([ fdel[zi]*wcib[lmax] ])"
   ]
  },
  {
   "cell_type": "code",
   "execution_count": 34,
   "id": "1480718f-680b-404b-8080-d5c88703c2ff",
   "metadata": {},
   "outputs": [
    {
     "name": "stdout",
     "output_type": "stream",
     "text": [
      "(20490,)\n"
     ]
    }
   ],
   "source": [
    "print(np.shape(wdel))"
   ]
  },
  {
   "cell_type": "code",
   "execution_count": null,
   "id": "75b3f4ff-fcb1-48ec-96dc-318674ae4677",
   "metadata": {},
   "outputs": [],
   "source": [
    "\n",
    "    # clkk\n",
    "    clkk = basic.bispec.cl_flat(cpmodel,z,dz,zs[:2],lmax,k,pk0)\n",
    "\n",
    "    #Lmaxs = np.arange(100,300,100)\n",
    "    Lmaxs = np.arange(100,2100,100)\n",
    "    SNR = np.zeros(len(Lmaxs))"
   ]
  }
 ],
 "metadata": {
  "kernelspec": {
   "display_name": "py4so",
   "language": "python",
   "name": "py4so"
  },
  "language_info": {
   "codemirror_mode": {
    "name": "ipython",
    "version": 3
   },
   "file_extension": ".py",
   "mimetype": "text/x-python",
   "name": "python",
   "nbconvert_exporter": "python",
   "pygments_lexer": "ipython3",
   "version": "3.7.2"
  }
 },
 "nbformat": 4,
 "nbformat_minor": 5
}
