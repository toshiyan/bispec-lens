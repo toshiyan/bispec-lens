{
 "cells": [
  {
   "cell_type": "code",
   "execution_count": 1,
   "id": "e9b58d45-0440-418a-a236-67dd7f8571d2",
   "metadata": {},
   "outputs": [
    {
     "name": "stdout",
     "output_type": "stream",
     "text": [
      "Using CAMB 1.3.2 installed at /global/homes/t/toshiyan/.conda/envs/loc/lib/python3.7/site-packages/camb\n"
     ]
    }
   ],
   "source": [
    "import numpy as np\n",
    "import basic\n",
    "import cosmology\n",
    "import misctools\n",
    "import local\n",
    "from matplotlib.pyplot import *"
   ]
  },
  {
   "cell_type": "code",
   "execution_count": 2,
   "id": "f3765bab-c6bd-4d1a-a370-52be2650f720",
   "metadata": {},
   "outputs": [
    {
     "name": "stdout",
     "output_type": "stream",
     "text": [
      "Using CAMB 1.3.2 installed at /global/homes/t/toshiyan/.conda/envs/loc/lib/python3.7/site-packages/camb\n"
     ]
    },
    {
     "data": {
      "text/plain": [
       "<module 'local' from '/global/u1/t/toshiyan/Work/Ongoing/bispec/z-clean/local.py'>"
      ]
     },
     "execution_count": 2,
     "metadata": {},
     "output_type": "execute_result"
    }
   ],
   "source": [
    "import importlib\n",
    "importlib.reload(local)"
   ]
  },
  {
   "cell_type": "code",
   "execution_count": 3,
   "id": "a0950fb2-366a-49c7-bf16-48ac5350424a",
   "metadata": {},
   "outputs": [],
   "source": [
    "lmin, lmax = 1, 2048\n",
    "L = np.linspace(0,lmax,lmax+1)\n",
    "kk_noise = 's4'"
   ]
  },
  {
   "cell_type": "code",
   "execution_count": 4,
   "id": "f36935e2-4266-4a54-ac3d-5ef446e1363a",
   "metadata": {},
   "outputs": [],
   "source": [
    "k, pk0 = np.loadtxt(local.root + 'modelw/Pk/Pklin_new.dat',unpack=True)"
   ]
  },
  {
   "cell_type": "code",
   "execution_count": 5,
   "id": "50c6051d-ed91-4673-b710-e44a1619378e",
   "metadata": {},
   "outputs": [],
   "source": [
    "# source redshift\n",
    "zs = [local.zcmb,local.zcmb,local.zcmb]\n",
    "# mass spectra\n",
    "ckk, ckI, cII, nlII = np.loadtxt(local.root+'modelw/cl/mass.dat',unpack=True,usecols=(1,2,3,4))\n",
    "#fdel = ckI/(cII+nlII+1e-30)\n",
    "fdel = ckI/(cII+1e-30)"
   ]
  },
  {
   "cell_type": "code",
   "execution_count": 6,
   "id": "2445d94c-6138-47ce-a6bb-dee650a8eada",
   "metadata": {},
   "outputs": [],
   "source": [
    "zn = 100"
   ]
  },
  {
   "cell_type": "code",
   "execution_count": 7,
   "id": "9991c4d9-832a-46a9-9732-5a4b20062fbd",
   "metadata": {},
   "outputs": [],
   "source": [
    "zmin, zmax = 0.0001, 30\n",
    "z, dz = basic.bispec.zpoints(zmin,zmax,zn)\n",
    "chi = basic.cosmofuncs.dist_comoving(z,**local.cps)"
   ]
  },
  {
   "cell_type": "code",
   "execution_count": 8,
   "id": "bc45acd8-6f98-46b3-8b10-4494a7faf10b",
   "metadata": {},
   "outputs": [],
   "source": [
    "# CIB weight\n",
    "wcib = local.cib_weight(z,local.cps,local.nu)"
   ]
  },
  {
   "cell_type": "code",
   "execution_count": 9,
   "id": "853c1877-4e24-4983-b510-b0e1df8f18ba",
   "metadata": {},
   "outputs": [],
   "source": [
    "# modified kernel\n",
    "wdel = np.zeros((zn,lmax+1))\n",
    "for l in range(lmax+1):\n",
    "    wdel[:,l] = fdel[l]*wcib"
   ]
  },
  {
   "cell_type": "code",
   "execution_count": 10,
   "id": "75b3f4ff-fcb1-48ec-96dc-318674ae4677",
   "metadata": {},
   "outputs": [],
   "source": [
    "# clkk\n",
    "kk = basic.bispec.cl_flat(local.cpmodel,z,dz,zs[:2],lmax,k,pk0)\n",
    "kk_del = basic.bispec.cl_flat(local.cpmodel,z,dz,zs[:2],lmax,k,pk0,wdel=wdel)"
   ]
  },
  {
   "cell_type": "code",
   "execution_count": 11,
   "id": "b4447511-89be-4b6a-b11a-b08afd317db9",
   "metadata": {},
   "outputs": [
    {
     "data": {
      "text/plain": [
       "[<matplotlib.lines.Line2D at 0x15550c6363c8>]"
      ]
     },
     "execution_count": 11,
     "metadata": {},
     "output_type": "execute_result"
    },
    {
     "data": {
      "image/png": "[encoded data removed]",
      "text/plain": [
       "<Figure size 432x288 with 1 Axes>"
      ]
     },
     "metadata": {
      "needs_background": "light"
     },
     "output_type": "display_data"
    }
   ],
   "source": [
    "plot(kk)\n",
    "plot(ckk)"
   ]
  },
  {
   "cell_type": "code",
   "execution_count": 13,
   "id": "71d57393-4920-4204-877c-5db4600e554f",
   "metadata": {},
   "outputs": [
    {
     "name": "stderr",
     "output_type": "stream",
     "text": [
      "/global/homes/t/toshiyan/.conda/envs/loc/lib/python3.7/site-packages/ipykernel_launcher.py:5: RuntimeWarning: invalid value encountered in true_divide\n",
      "  \"\"\"\n"
     ]
    },
    {
     "data": {
      "text/plain": [
       "[<matplotlib.lines.Line2D at 0x15550c347668>]"
      ]
     },
     "execution_count": 13,
     "metadata": {},
     "output_type": "execute_result"
    },
    {
     "data": {
      "image/png": "[encoded data removed]",
      "text/plain": [
       "<Figure size 432x288 with 1 Axes>"
      ]
     },
     "metadata": {
      "needs_background": "light"
     },
     "output_type": "display_data"
    }
   ],
   "source": [
    "xlim(50,lmax)\n",
    "axvline(100,color='k',ls='--')\n",
    "plot(kk)\n",
    "plot(kk_del)\n",
    "rhosq = ckI**2/(ckk*(cII+1e-30))\n",
    "plot(ckk*(1-rhosq))"
   ]
  },
  {
   "cell_type": "code",
   "execution_count": 17,
   "id": "7ea30926-2530-437b-83bc-2c963c50de15",
   "metadata": {},
   "outputs": [],
   "source": [
    "Lmax = 500\n",
    "nlkk = np.zeros(Lmax+1)\n",
    "nlkk[2:] = np.loadtxt(local.root+'nldd/S4_s1_t3_rlmax4000.dat',unpack=True)[1][:Lmax-1]"
   ]
  },
  {
   "cell_type": "code",
   "execution_count": 18,
   "id": "f879f08e-26be-4a57-ad62-c283efe9bdc5",
   "metadata": {},
   "outputs": [],
   "source": [
    "ockk = ckk[:Lmax+1] + nlkk"
   ]
  },
  {
   "cell_type": "code",
   "execution_count": null,
   "id": "34c0cc85-e519-443b-b3ba-a9a2cd958576",
   "metadata": {},
   "outputs": [],
   "source": [
    "SNR = basic.bispec.bispeclens_snr(local.cpmodel,'RT',z,dz,zs,2,Lmax,ockk,k,pk0,btype='kkk')"
   ]
  },
  {
   "cell_type": "code",
   "execution_count": null,
   "id": "33b2f5de-3616-4bd9-a171-c384ae17a776",
   "metadata": {},
   "outputs": [],
   "source": [
    "SNR_del = basic.bispec.bispeclens_snr(local.cpmodel,'RT',z,dz,zs,2,Lmax,ockk,k,pk0,btype='kkk')"
   ]
  },
  {
   "cell_type": "code",
   "execution_count": null,
   "id": "9a13c6da-8431-4b2a-855a-740a1e607131",
   "metadata": {},
   "outputs": [],
   "source": [
    "print(SNR)\n",
    "print(SNR_del)"
   ]
  }
 ],
 "metadata": {
  "kernelspec": {
   "display_name": "py4so",
   "language": "python",
   "name": "py4so"
  },
  "language_info": {
   "codemirror_mode": {
    "name": "ipython",
    "version": 3
   },
   "file_extension": ".py",
   "mimetype": "text/x-python",
   "name": "python",
   "nbconvert_exporter": "python",
   "pygments_lexer": "ipython3",
   "version": "3.7.2"
  }
 },
 "nbformat": 4,
 "nbformat_minor": 5
}
