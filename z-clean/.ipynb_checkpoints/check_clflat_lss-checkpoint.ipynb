{
 "cells": [
  {
   "cell_type": "code",
   "execution_count": 1,
   "id": "e9b58d45-0440-418a-a236-67dd7f8571d2",
   "metadata": {},
   "outputs": [
    {
     "name": "stdout",
     "output_type": "stream",
     "text": [
      "Using CAMB 1.3.2 installed at /global/homes/t/toshiyan/.conda/envs/loc/lib/python3.7/site-packages/camb\n"
     ]
    }
   ],
   "source": [
    "import numpy as np\n",
    "import basic\n",
    "import cosmology\n",
    "import misctools\n",
    "import local\n",
    "from matplotlib.pyplot import *"
   ]
  },
  {
   "cell_type": "code",
   "execution_count": 2,
   "id": "f3765bab-c6bd-4d1a-a370-52be2650f720",
   "metadata": {},
   "outputs": [
    {
     "name": "stdout",
     "output_type": "stream",
     "text": [
      "Using CAMB 1.3.2 installed at /global/homes/t/toshiyan/.conda/envs/loc/lib/python3.7/site-packages/camb\n"
     ]
    },
    {
     "data": {
      "text/plain": [
       "<module 'local' from '/global/u1/t/toshiyan/Work/Ongoing/bispec/z-clean/local.py'>"
      ]
     },
     "execution_count": 2,
     "metadata": {},
     "output_type": "execute_result"
    }
   ],
   "source": [
    "import importlib\n",
    "importlib.reload(local)"
   ]
  },
  {
   "cell_type": "code",
   "execution_count": 3,
   "id": "a0950fb2-366a-49c7-bf16-48ac5350424a",
   "metadata": {},
   "outputs": [],
   "source": [
    "lmin, lmax = 1, 2048\n",
    "L = np.linspace(0,lmax,lmax+1)\n",
    "kk_noise = 's4'\n",
    "lss_zbin = 6"
   ]
  },
  {
   "cell_type": "code",
   "execution_count": 4,
   "id": "f36935e2-4266-4a54-ac3d-5ef446e1363a",
   "metadata": {},
   "outputs": [],
   "source": [
    "k, pk0 = np.loadtxt(local.root + 'modelw/Pk/Pklin_new.dat',unpack=True)"
   ]
  },
  {
   "cell_type": "code",
   "execution_count": 5,
   "id": "50c6051d-ed91-4673-b710-e44a1619378e",
   "metadata": {},
   "outputs": [],
   "source": [
    "# source redshift\n",
    "zs = [local.zcmb,local.zcmb,local.zcmb]"
   ]
  },
  {
   "cell_type": "code",
   "execution_count": 6,
   "id": "2445d94c-6138-47ce-a6bb-dee650a8eada",
   "metadata": {},
   "outputs": [],
   "source": [
    "zn = 100"
   ]
  },
  {
   "cell_type": "code",
   "execution_count": 7,
   "id": "9991c4d9-832a-46a9-9732-5a4b20062fbd",
   "metadata": {},
   "outputs": [],
   "source": [
    "zmin, zmax = 0.0001, 20\n",
    "z, dz = basic.bispec.zpoints(zmin,zmax,zn)\n",
    "chi = basic.cosmofuncs.dist_comoving(z,**local.cps)\n",
    "Hzi = basic.cosmofuncs.hubble(z,divc=True,**local.cps)\n",
    "rzi = basic.cosmofuncs.dist_comoving(z,**local.cps)"
   ]
  },
  {
   "cell_type": "code",
   "execution_count": 8,
   "id": "51ce53bf-3429-4246-8c43-aa8f3ff6f587",
   "metadata": {},
   "outputs": [],
   "source": [
    "# gal coefficient\n",
    "frac = local.galaxy_distribution(np.linspace(0,50,1000),zbn={'lss':lss_zbin})[3]\n",
    "Scov = local.get_covariance_signal(lmax,add_lss=lss_zbin)\n",
    "slss = local.get_covariance_signal(lmax,add_cmb=False,add_cib=False,add_lss=lss_zbin)\n",
    "nlss = local.get_covariance_noise(lmax,frac=frac,add_cmb=False,add_cib=False,add_lss=lss_zbin)\n",
    "vecs = Scov[0,2:2+lss_zbin,:]\n",
    "ocov = slss + nlss\n",
    "icov = ocov.copy()\n",
    "icov[:,:,1:] = np.array( [ np.linalg.inv(ocov[:,:,l]) for l in range(1,lmax+1) ] ).T\n",
    "coef = np.array( [ np.dot( icov[:,:,l], vecs[:,l] ) for l in range(lmax+1) ] )"
   ]
  },
  {
   "cell_type": "code",
   "execution_count": 9,
   "id": "0fb33416-85b5-4adb-bcea-17dc47260664",
   "metadata": {},
   "outputs": [],
   "source": [
    "# gal weight\n",
    "zbin, dndzi, pz, __ = local.galaxy_distribution(z,zbn={'lss':lss_zbin})\n",
    "wgal = np.zeros((lss_zbin,zn))\n",
    "for zi in range(lss_zbin):\n",
    "    wgal[zi,:] = Hzi*dndzi['lss']*pz['lss'][zi]*(1+.84*z)/frac['lss'][zi]"
   ]
  },
  {
   "cell_type": "code",
   "execution_count": 10,
   "id": "d06d9d31-8b92-46ed-9e47-ed32d3e327f7",
   "metadata": {},
   "outputs": [
    {
     "data": {
      "text/plain": [
       "{0: 0.10033342858109964,\n",
       " 1: 0.07228847567034886,\n",
       " 2: 0.05001255547115544,\n",
       " 3: 0.045728404943414964,\n",
       " 4: 0.03284471135059052,\n",
       " 5: 0.014289194531353508}"
      ]
     },
     "execution_count": 10,
     "metadata": {},
     "output_type": "execute_result"
    }
   ],
   "source": [
    "frac['lss']"
   ]
  },
  {
   "cell_type": "code",
   "execution_count": 12,
   "id": "3dd42d8c-3e24-45f0-b0c1-939b101c3245",
   "metadata": {},
   "outputs": [],
   "source": [
    "# modified kernel\n",
    "wdel = np.zeros((zn,lmax+1))\n",
    "for l in range(lmax+1):\n",
    "    wdel[:,l] = 0.\n",
    "    for zi in range(lss_zbin):\n",
    "        wdel[:,l] += coef[l,zi]*wgal[zi,:]\n",
    "    #wdel[:,l] = coef[l,0]*wgal[0,:]"
   ]
  },
  {
   "cell_type": "code",
   "execution_count": 13,
   "id": "b911e8f8-ba6a-4159-b883-b95ca57780e3",
   "metadata": {},
   "outputs": [],
   "source": [
    "clgg = np.zeros((6,lmax+1))\n",
    "clgg[:,8:2008] = np.loadtxt(\"/global/homes/t/toshiyan/Work/Ongoing/sobs/data/sodelens/aux/byeonghee/LSST_gold_6tomobins/clgg_LSSTgold_6tomobins.dat\")"
   ]
  },
  {
   "cell_type": "code",
   "execution_count": 14,
   "id": "197c5ae1-2ac8-43d0-9bd1-25cff91f2e11",
   "metadata": {},
   "outputs": [],
   "source": [
    "zid = 3"
   ]
  },
  {
   "cell_type": "code",
   "execution_count": 15,
   "id": "bc82769b-bc51-49e0-8f34-9e12a4e5dde0",
   "metadata": {},
   "outputs": [],
   "source": [
    "# clkk\n",
    "skk = basic.bispec.cl_flat(local.cpmodel,z,dz,zs[:2],lmax,k,pk0)\n",
    "dkk = basic.bispec.cl_flat(local.cpmodel,z,dz,zs[:2],lmax,k,pk0,wdel=wdel)\n",
    "sgg = basic.bispec.cl_flat(local.cpmodel,z,dz,zs[:2],lmax,k,pk0,dNdz=dndzi['lss']*pz['lss'][zid]/frac['lss'][zid]*(1+.84*z),cltype='gg')"
   ]
  },
  {
   "cell_type": "code",
   "execution_count": 16,
   "id": "6adad303-ceec-448a-be55-0acde1378a95",
   "metadata": {},
   "outputs": [
    {
     "name": "stdout",
     "output_type": "stream",
     "text": [
      "0.045728404943414964 0.04572876660055017\n"
     ]
    }
   ],
   "source": [
    "print(frac['lss'][zid],norm[zid])"
   ]
  },
  {
   "cell_type": "code",
   "execution_count": 17,
   "id": "b4447511-89be-4b6a-b11a-b08afd317db9",
   "metadata": {},
   "outputs": [
    {
     "data": {
      "text/plain": [
       "<matplotlib.legend.Legend at 0x15550c5d1c50>"
      ]
     },
     "execution_count": 17,
     "metadata": {},
     "output_type": "execute_result"
    },
    {
     "data": {
      "image/png": "[encoded data removed]",
      "text/plain": [
       "<Figure size 432x288 with 1 Axes>"
      ]
     },
     "metadata": {
      "needs_background": "light"
     },
     "output_type": "display_data"
    }
   ],
   "source": [
    "xlim(8,lmax)\n",
    "ylim(1e-9,1e-4)\n",
    "xscale('log')\n",
    "yscale('log')\n",
    "#plot(skk)\n",
    "#plot(dkk)\n",
    "plot(sgg,label='flatcode')\n",
    "#plot(clgg[zid],label='ref')\n",
    "plot(slss[zid,zid,:],label='camb')\n",
    "legend()"
   ]
  },
  {
   "cell_type": "code",
   "execution_count": 18,
   "id": "7ea30926-2530-437b-83bc-2c963c50de15",
   "metadata": {},
   "outputs": [
    {
     "data": {
      "text/plain": [
       "[<matplotlib.lines.Line2D at 0x15550c6598d0>]"
      ]
     },
     "execution_count": 18,
     "metadata": {},
     "output_type": "execute_result"
    },
    {
     "data": {
      "image/png": "[encoded data removed]",
      "text/plain": [
       "<Figure size 432x288 with 1 Axes>"
      ]
     },
     "metadata": {
      "needs_background": "light"
     },
     "output_type": "display_data"
    }
   ],
   "source": [
    "plot(skk)\n",
    "plot(dkk)"
   ]
  },
  {
   "cell_type": "code",
   "execution_count": 19,
   "id": "1dd4b4e1-3ee7-4c78-9891-b11209ce0c24",
   "metadata": {},
   "outputs": [
    {
     "name": "stderr",
     "output_type": "stream",
     "text": [
      "/global/homes/t/toshiyan/.conda/envs/loc/lib/python3.7/site-packages/ipykernel_launcher.py:1: RuntimeWarning: invalid value encountered in true_divide\n",
      "  \"\"\"Entry point for launching an IPython kernel.\n"
     ]
    },
    {
     "data": {
      "text/plain": [
       "[<matplotlib.lines.Line2D at 0x15550c16d4e0>]"
      ]
     },
     "execution_count": 19,
     "metadata": {},
     "output_type": "execute_result"
    },
    {
     "data": {
      "image/png": "[encoded data removed]",
      "text/plain": [
       "<Figure size 432x288 with 1 Axes>"
      ]
     },
     "metadata": {
      "needs_background": "light"
     },
     "output_type": "display_data"
    }
   ],
   "source": [
    "plot(1-dkk/skk)"
   ]
  },
  {
   "cell_type": "code",
   "execution_count": null,
   "id": "692a947a-a676-4ac1-8669-1c18fb062685",
   "metadata": {},
   "outputs": [],
   "source": []
  }
 ],
 "metadata": {
  "kernelspec": {
   "display_name": "py4so",
   "language": "python",
   "name": "py4so"
  },
  "language_info": {
   "codemirror_mode": {
    "name": "ipython",
    "version": 3
   },
   "file_extension": ".py",
   "mimetype": "text/x-python",
   "name": "python",
   "nbconvert_exporter": "python",
   "pygments_lexer": "ipython3",
   "version": "3.7.2"
  }
 },
 "nbformat": 4,
 "nbformat_minor": 5
}
