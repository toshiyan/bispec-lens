{
 "cells": [
  {
   "cell_type": "code",
   "execution_count": 1,
   "id": "6688dfd3-ffdc-4320-b16b-d127cf22946f",
   "metadata": {},
   "outputs": [
    {
     "name": "stdout",
     "output_type": "stream",
     "text": [
      "Using CAMB 1.3.2 installed at /global/homes/t/toshiyan/.conda/envs/loc/lib/python3.7/site-packages/camb\n"
     ]
    }
   ],
   "source": [
    "import numpy as np, basic, cosmology, local, plottools as pl\n",
    "from matplotlib.pyplot import *"
   ]
  },
  {
   "cell_type": "code",
   "execution_count": 14,
   "id": "8d16fccc-a555-4351-b835-560ecd5f9319",
   "metadata": {},
   "outputs": [
    {
     "name": "stdout",
     "output_type": "stream",
     "text": [
      "Using CAMB 1.3.2 installed at /global/homes/t/toshiyan/.conda/envs/loc/lib/python3.7/site-packages/camb\n"
     ]
    },
    {
     "data": {
      "text/plain": [
       "<module 'local' from '/global/u1/t/toshiyan/Work/Ongoing/bispec/z-clean/local.py'>"
      ]
     },
     "execution_count": 14,
     "metadata": {},
     "output_type": "execute_result"
    }
   ],
   "source": [
    "import importlib\n",
    "importlib.reload(local)"
   ]
  },
  {
   "cell_type": "code",
   "execution_count": 15,
   "id": "4ae90a85-c304-49de-8b14-85c52511b845",
   "metadata": {},
   "outputs": [],
   "source": [
    "lmax = 1024\n",
    "lss_zbin = 6"
   ]
  },
  {
   "cell_type": "code",
   "execution_count": 16,
   "id": "f1ece11d-d645-4085-8477-0589af870550",
   "metadata": {},
   "outputs": [],
   "source": [
    "frac = local.galaxy_distribution(np.linspace(0,50,1000),zbn={'lss':lss_zbin})[3]"
   ]
  },
  {
   "cell_type": "code",
   "execution_count": 17,
   "id": "f7ba8ef9-6ab2-40ca-8937-75eda6c608cc",
   "metadata": {},
   "outputs": [],
   "source": [
    "l, camb_cls = local.read_camb_cls(add_lss=lss_zbin,lmax=lmax)"
   ]
  },
  {
   "cell_type": "code",
   "execution_count": 18,
   "id": "54667d72-ebc7-40fa-8351-950361470e8b",
   "metadata": {},
   "outputs": [
    {
     "name": "stdout",
     "output_type": "stream",
     "text": [
      "(8, 8, 1025)\n"
     ]
    }
   ],
   "source": [
    "# for cross spectrum\n",
    "vecs = {}\n",
    "ocov = {}\n",
    "Scov = local.get_covariance_signal(lmax,add_lss=lss_zbin)\n",
    "print(np.shape(Scov))"
   ]
  },
  {
   "cell_type": "code",
   "execution_count": 24,
   "id": "7017ef02-aca9-4b8b-b307-b5d1b19f0338",
   "metadata": {},
   "outputs": [],
   "source": [
    "# CIB covariance\n",
    "scib = local.get_covariance_signal(lmax,add_cmb=False,add_lss=0)\n",
    "ncib = local.get_covariance_noise(lmax,add_cmb=False,add_lss=0)\n",
    "vecs['cib'] = Scov[0,1:2,:]\n",
    "ocov['cib'] = scib + ncib"
   ]
  },
  {
   "cell_type": "code",
   "execution_count": 23,
   "id": "7b29993c-354c-4580-be2b-4ee757258613",
   "metadata": {},
   "outputs": [],
   "source": [
    "# LSST covariance\n",
    "slss = local.get_covariance_signal(lmax,add_cmb=False,add_cib=False,add_lss=lss_zbin)\n",
    "nlss = local.get_covariance_noise(lmax,frac=frac,add_cmb=False,add_cib=False,add_lss=lss_zbin)\n",
    "vecs['lss'] = Scov[0,2:2+lss_zbin,:]\n",
    "ocov['lss'] = slss + nlss"
   ]
  },
  {
   "cell_type": "code",
   "execution_count": 25,
   "id": "0487948f-4126-49c6-a215-33664940aa46",
   "metadata": {},
   "outputs": [],
   "source": [
    "# cib+gal covariance\n",
    "sext = local.get_covariance_signal(lmax,add_cmb=False,add_lss=lss_zbin)\n",
    "next = local.get_covariance_noise(lmax,frac=frac,add_cmb=False,add_lss=lss_zbin)\n",
    "vecs['ext'] = Scov[0,1:2+lss_zbin,:]\n",
    "ocov['ext'] = sext + next"
   ]
  },
  {
   "cell_type": "code",
   "execution_count": 27,
   "id": "895400d6-72e8-4e70-80d6-a75d8bfaac9a",
   "metadata": {},
   "outputs": [],
   "source": [
    "icov, rho = {}, {}\n",
    "for t in ['cib','lss','ext']:\n",
    "    icov[t] = ocov[t].copy()\n",
    "    icov[t][:,:,1:] = np.array( [ np.linalg.inv(ocov[t][:,:,l]) for l in range(1,lmax+1) ] ).T\n",
    "    rho[t] = np.array( [ np.dot( vecs[t][:,l], np.dot( icov[t][:,:,l], vecs[t][:,l] ) ) for l in range(lmax+1) ] ) / ( camb_cls['cmbcmb'][:lmax+1] + 1e-30 )"
   ]
  },
  {
   "cell_type": "code",
   "execution_count": 28,
   "id": "255c1cb9-f0a4-484e-9266-4ee3c1fcf9d2",
   "metadata": {},
   "outputs": [
    {
     "data": {
      "image/png": "[encoded data removed]",
      "text/plain": [
       "<Figure size 432x288 with 1 Axes>"
      ]
     },
     "metadata": {
      "needs_background": "light"
     },
     "output_type": "display_data"
    }
   ],
   "source": [
    "pl.plot_1dstyle(usetex=True,xmin=2,xmax=lmax,ymin=0,ymax=1,xlab=r'$L$',ylab=r'$\\rho^{\\kappa\\kappa_i}_L$',ylabsize=22)\n",
    "for t, label in [('lss','LSST'),('cib','CIB'),('ext','LSST+CIB')]:\n",
    "    plot(l, np.sqrt(rho[t]),label=label)\n",
    "legend()\n",
    "#savefig('fig_rho_ext.pdf')"
   ]
  },
  {
   "cell_type": "code",
   "execution_count": null,
   "id": "0ce5626d-73e9-4906-b2d4-5066af876161",
   "metadata": {},
   "outputs": [],
   "source": []
  }
 ],
 "metadata": {
  "kernelspec": {
   "display_name": "py4so",
   "language": "python",
   "name": "py4so"
  },
  "language_info": {
   "codemirror_mode": {
    "name": "ipython",
    "version": 3
   },
   "file_extension": ".py",
   "mimetype": "text/x-python",
   "name": "python",
   "nbconvert_exporter": "python",
   "pygments_lexer": "ipython3",
   "version": "3.7.2"
  }
 },
 "nbformat": 4,
 "nbformat_minor": 5
}
