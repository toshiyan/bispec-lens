{
 "cells": [
  {
   "cell_type": "code",
   "execution_count": 1,
   "metadata": {},
   "outputs": [],
   "source": [
    "def bispecplot(btype,bn=20,s=1e10,n=2,c=['b','g','m'],fsize=12,simn=108,yfsize=14):\n",
    "    Dir = '/global/homes/t/toshiyan/Work/Ongoing/bisp/data/modelw/bl/'\n",
    "    m0 = 3\n",
    "    b, sbl, vbl = np.loadtxt(Dir+'../../sim/sim_bispec_nres13_zs16.dat',unpack=True,usecols=(0,m0,m0+4))\n",
    "    ylabel(r'$b$',fontsize=yfsize)\n",
    "    errorbar(b,vbl,fmt='o',color='k')\n",
    "    legend(loc=0,frameon=False)\n",
    "    show()"
   ]
  },
  {
   "cell_type": "code",
   "execution_count": 2,
   "metadata": {},
   "outputs": [],
   "source": [
    "import numpy as np, matplotlib as mpl\n",
    "from matplotlib.pyplot import *\n",
    "mpl.rc('text',usetex=True)\n",
    "mpl.rcParams.update({'font.size': 16,'legend.fontsize':12,'font.family':'sans','font.style':'normal'})"
   ]
  },
  {
   "cell_type": "code",
   "execution_count": 4,
   "metadata": {},
   "outputs": [
    {
     "name": "stderr",
     "output_type": "stream",
     "text": [
      "No handles with labels found to put in legend.\n"
     ]
    },
    {
     "data": {
      "image/png": "[encoded data removed]",
      "text/plain": [
       "<Figure size 432x288 with 1 Axes>"
      ]
     },
     "metadata": {
      "needs_background": "light"
     },
     "output_type": "display_data"
    }
   ],
   "source": [
    "#for btype in ['equi','fold','sque','angl']: \n",
    "bispecplot('sque')"
   ]
  },
  {
   "cell_type": "code",
   "execution_count": null,
   "metadata": {},
   "outputs": [],
   "source": []
  }
 ],
 "metadata": {
  "kernelspec": {
   "display_name": "py4so",
   "language": "python",
   "name": "py4so"
  },
  "language_info": {
   "codemirror_mode": {
    "name": "ipython",
    "version": 3
   },
   "file_extension": ".py",
   "mimetype": "text/x-python",
   "name": "python",
   "nbconvert_exporter": "python",
   "pygments_lexer": "ipython3",
   "version": "3.7.2"
  }
 },
 "nbformat": 4,
 "nbformat_minor": 4
}
